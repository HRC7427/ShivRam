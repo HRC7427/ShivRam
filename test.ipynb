{
 "cells": [
  {
   "cell_type": "code",
   "execution_count": 2,
   "metadata": {},
   "outputs": [],
   "source": [
    "l = ['12','34','5']"
   ]
  },
  {
   "cell_type": "code",
   "execution_count": 3,
   "metadata": {},
   "outputs": [
    {
     "name": "stdout",
     "output_type": "stream",
     "text": [
      "3\n"
     ]
    }
   ],
   "source": [
    "print(len(list(list(list(map(list,l))))))"
   ]
  },
  {
   "cell_type": "code",
   "execution_count": null,
   "metadata": {},
   "outputs": [],
   "source": []
  },
  {
   "cell_type": "code",
   "execution_count": 12,
   "metadata": {},
   "outputs": [],
   "source": [
    "South=['AP','Kar','Ker','TN','Tel']"
   ]
  },
  {
   "cell_type": "code",
   "execution_count": 13,
   "metadata": {},
   "outputs": [],
   "source": [
    "South1 = South"
   ]
  },
  {
   "cell_type": "code",
   "execution_count": 14,
   "metadata": {},
   "outputs": [],
   "source": [
    "South2 = South1[:]"
   ]
  },
  {
   "cell_type": "code",
   "execution_count": 15,
   "metadata": {},
   "outputs": [],
   "source": [
    "South1[0]='Goa'"
   ]
  },
  {
   "cell_type": "code",
   "execution_count": 16,
   "metadata": {},
   "outputs": [],
   "source": [
    "South2[1]='Punducherry'"
   ]
  },
  {
   "cell_type": "code",
   "execution_count": 33,
   "metadata": {},
   "outputs": [],
   "source": [
    "CNT = 0\n",
    "\n",
    "for ls in (South,South1,South2):\n",
    "    if ls[0] == 'Goa':\n",
    "        CNT = 1\n",
    "    if ls[1] == 'Punducherry':\n",
    "        CNT = 10"
   ]
  },
  {
   "cell_type": "code",
   "execution_count": 34,
   "metadata": {},
   "outputs": [
    {
     "name": "stdout",
     "output_type": "stream",
     "text": [
      "['Goa', 'Kar', 'Ker', 'TN', 'Tel']\n",
      "['Goa', 'Kar', 'Ker', 'TN', 'Tel']\n",
      "['AP', 'Punducherry', 'Ker', 'TN', 'Tel']\n",
      "10\n"
     ]
    }
   ],
   "source": [
    "print(South)\n",
    "print(South1)\n",
    "print(South2)\n",
    "print (CNT)"
   ]
  },
  {
   "cell_type": "code",
   "execution_count": 21,
   "metadata": {},
   "outputs": [],
   "source": [
    "cnt = 0"
   ]
  },
  {
   "cell_type": "code",
   "execution_count": 36,
   "metadata": {},
   "outputs": [
    {
     "name": "stdout",
     "output_type": "stream",
     "text": [
      "12\n"
     ]
    }
   ],
   "source": [
    "South = ['AP','KAR', 'KEr','TS','TN']\n",
    "South1= South\n",
    "South2=South1[:]\n",
    "South1[0]='Goa'\n",
    "South2[1]='Pud'\n",
    " \n",
    "CNT=0\n",
    "for ls in (South, South1, South2):\n",
    "    if ls[0] == 'Goa':\n",
    "        CNT += 1\n",
    "    if ls[1] == 'Pud':\n",
    "        CNT+=10\n",
    "print(CNT)"
   ]
  },
  {
   "cell_type": "code",
   "execution_count": 37,
   "metadata": {},
   "outputs": [
    {
     "name": "stdout",
     "output_type": "stream",
     "text": [
      "12\n"
     ]
    }
   ],
   "source": [
    "South = ['AP','KAR', 'KEr','TS','TN']\n",
    "South1= South\n",
    "South2=South1[:]\n",
    "South1[0]='Goa'\n",
    "South2[1]='Pud'\n",
    " \n",
    "CNT=0\n",
    "for ls in (South, South1, South2):\n",
    "    if ls[0] == 'Goa':\n",
    "        CNT += 1\n",
    "    if ls[1] == 'Pud':\n",
    "        CNT+=10\n",
    "print(CNT)"
   ]
  },
  {
   "cell_type": "code",
   "execution_count": 4,
   "metadata": {},
   "outputs": [
    {
     "name": "stdout",
     "output_type": "stream",
     "text": [
      "3\n"
     ]
    }
   ],
   "source": [
    "print(1+2)"
   ]
  }
 ],
 "metadata": {
  "kernelspec": {
   "display_name": "Python 3",
   "language": "python",
   "name": "python3"
  },
  "language_info": {
   "codemirror_mode": {
    "name": "ipython",
    "version": 3
   },
   "file_extension": ".py",
   "mimetype": "text/x-python",
   "name": "python",
   "nbconvert_exporter": "python",
   "pygments_lexer": "ipython3",
   "version": "3.8.5"
  }
 },
 "nbformat": 4,
 "nbformat_minor": 4
}
